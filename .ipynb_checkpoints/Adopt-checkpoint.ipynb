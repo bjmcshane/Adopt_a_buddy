{
 "cells": [
  {
   "cell_type": "code",
   "execution_count": 196,
   "metadata": {},
   "outputs": [],
   "source": [
    "import numpy as np\n",
    "import matplotlib.pyplot as plt\n",
    "import pandas as pd\n",
    "import math\n",
    "import tensorflow as tf"
   ]
  },
  {
   "cell_type": "code",
   "execution_count": 197,
   "metadata": {},
   "outputs": [],
   "source": [
    "train = pd.read_csv('Dataset/train.csv')\n",
    "test = pd.read_csv('Dataset/test.csv')"
   ]
  },
  {
   "cell_type": "code",
   "execution_count": 198,
   "metadata": {},
   "outputs": [
    {
     "name": "stdout",
     "output_type": "stream",
     "text": [
      "       pet_id           issue_date         listing_date  condition  \\\n",
      "0  ANSL_69903  2016-07-10 00:00:00  2016-09-21 16:25:00        2.0   \n",
      "1  ANSL_66892  2013-11-21 00:00:00  2018-12-27 17:47:00        1.0   \n",
      "2  ANSL_69750  2014-09-28 00:00:00  2016-10-19 08:24:00        NaN   \n",
      "3  ANSL_71623  2016-12-31 00:00:00  2019-01-25 18:30:00        1.0   \n",
      "4  ANSL_57969  2017-09-28 00:00:00  2017-11-19 09:38:00        2.0   \n",
      "\n",
      "    color_type  length(m)  height(cm)  X1  X2  breed_category  pet_category  \n",
      "0  Brown Tabby       0.80        7.78  13   9             0.0             1  \n",
      "1        White       0.72       14.19  13   9             0.0             2  \n",
      "2        Brown       0.15       40.90  15   4             2.0             4  \n",
      "3        White       0.62       17.82   0   1             0.0             2  \n",
      "4        Black       0.50       11.06  18   4             0.0             1  \n"
     ]
    }
   ],
   "source": [
    "print(train.head(5))"
   ]
  },
  {
   "cell_type": "code",
   "execution_count": 199,
   "metadata": {},
   "outputs": [],
   "source": [
    "train = np.array(train)\n",
    "test = np.array(test)"
   ]
  },
  {
   "cell_type": "code",
   "execution_count": 200,
   "metadata": {},
   "outputs": [
    {
     "data": {
      "text/plain": [
       "\"\\nprint(type(train[0,4]))\\nprint(len(train[0,:]))\\nprint(train[0,4])\\nprint(train[1,4])\\nprint(train[2,4])\\nprint(train[0,:]) # the one in the first 5 missing 'condition[2]'\\n\""
      ]
     },
     "execution_count": 200,
     "metadata": {},
     "output_type": "execute_result"
    }
   ],
   "source": [
    "# both train and test are missing a lot of data in the 'condition' column, so we're going to\n",
    "# fill in the missing data with imputer\n",
    "\n",
    "from sklearn.impute import SimpleImputer\n",
    "imputer = SimpleImputer(missing_values=np.nan, strategy='mean')\n",
    "imputer.fit(train[:,3:4])\n",
    "train[:,3:4] = imputer.transform(train[:,3:4])\n",
    "imputer.fit(test[:,3:4])\n",
    "test[:,3:4] = imputer.transform(test[:,3:4])\n",
    "\n",
    "# this might not work bc condition is a 0.0, 1.0, 2.0, etc.... and the mean is apparently\n",
    "# 0.8833899867488622\n",
    "\n",
    "'''\n",
    "print(type(train[0,4]))\n",
    "print(len(train[0,:]))\n",
    "print(train[0,4])\n",
    "print(train[1,4])\n",
    "print(train[2,4])\n",
    "print(train[0,:]) # the one in the first 5 missing 'condition[2]'\n",
    "'''"
   ]
  },
  {
   "cell_type": "code",
   "execution_count": 201,
   "metadata": {},
   "outputs": [
    {
     "name": "stdout",
     "output_type": "stream",
     "text": [
      "['ANSL_69903' '2016-07-10 00:00:00' '2016-09-21 16:25:00' 2.0\n",
      " 'Brown Tabby' 0.8 7.78 13 9 0.0 1]\n",
      "=======================\n",
      "['Brown Tabby' 1.0300208994241908 -1.5107285279864824 1.1610133636188338\n",
      " 1.2572791543898296 0.0 1]\n"
     ]
    }
   ],
   "source": [
    "# after we filled in missing data and encoded categorical data, we're going to scale everything\n",
    "# using the standardization method\n",
    "from sklearn.preprocessing import StandardScaler\n",
    "sc = StandardScaler()\n",
    "\n",
    "# gonna want to standardize the columns:\n",
    "# condition[3] ? -> [59]\n",
    "# length[5] -> [60]\n",
    "# height[6] -> [61]\n",
    "# X1[7] ->[62]\n",
    "# X2[8] -> [63]\n",
    "# not sure if standardizing the dates would be helpful\n",
    "print(train[0,:])\n",
    "print('=======================')\n",
    "train[:, 5:9] = sc.fit_transform(train[:, 5:9])\n",
    "test[:, 5:9] = sc.transform(test[:,5:9])\n",
    "train = train[:, 4:11]\n",
    "test = test[:, 4:9]\n",
    "print(train[0,:])"
   ]
  },
  {
   "cell_type": "code",
   "execution_count": 202,
   "metadata": {},
   "outputs": [
    {
     "name": "stdout",
     "output_type": "stream",
     "text": [
      "62\n",
      "[0.0 0.0 0.0 0.0 0.0 0.0 0.0 0.0 0.0 0.0 0.0 0.0 0.0 0.0 0.0 0.0 0.0 0.0\n",
      " 1.0 0.0 0.0 0.0 0.0 0.0 0.0 0.0 0.0 0.0 0.0 0.0 0.0 0.0 0.0 0.0 0.0 0.0\n",
      " 0.0 0.0 0.0 0.0 0.0 0.0 0.0 0.0 0.0 0.0 0.0 0.0 0.0 0.0 0.0 0.0 0.0 0.0\n",
      " 0.0 0.0 1.0300208994241908 -1.5107285279864824 1.1610133636188338\n",
      " 1.2572791543898296 0.0 1]\n",
      "1.0300208994241908\n",
      "-1.5107285279864824\n",
      "1.1610133636188338\n",
      "1.2572791543898296\n",
      "0.0\n",
      "1\n"
     ]
    }
   ],
   "source": [
    "# the next step is to encode categorical data (most categorical data already has been, but for\n",
    "# whatever reason 'color_type'[4] hasn't)\n",
    "from sklearn.compose import ColumnTransformer\n",
    "from sklearn.preprocessing import OneHotEncoder, LabelEncoder\n",
    "\n",
    "#print(train[0,:])\n",
    "ct = ColumnTransformer(transformers=[('encoder', OneHotEncoder(), [0])], \n",
    "                       remainder='passthrough',\n",
    "                       sparse_threshold=0)\n",
    "train = np.array(ct.fit_transform(train))\n",
    "test = np.array(ct.fit_transform(test))\n",
    "\n",
    "\n",
    "print(len(train[0,:]))\n",
    "print(train[0,:])\n",
    "print(train[0,56])\n",
    "print(train[0,57])\n",
    "print(train[0,58])\n",
    "print(train[0,59])\n",
    "print(train[0,60])\n",
    "print(train[0,61])\n",
    "\n",
    "#this block is correct, getting weird errors when I try to fit_transform the CT\n",
    "\n",
    "# might need to convert dates/times to more numeric values"
   ]
  },
  {
   "cell_type": "code",
   "execution_count": 204,
   "metadata": {},
   "outputs": [
    {
     "name": "stdout",
     "output_type": "stream",
     "text": [
      "[0.0 0.0 2.0 ... 1.0 1.0 1.0]\n",
      "[1 2 4 ... 1 2 2]\n",
      "[0 0 2 ... 1 1 1]\n",
      "[1 2 3 ... 1 2 2]\n",
      "[1, 2, 3, 0]\n",
      "[0, 2, 1]\n"
     ]
    }
   ],
   "source": [
    "# splitting the cleaned data into input/output\n",
    "# don't need pet_id, issue_date, listing_date, condition?\n",
    "# what about anonymous columns?\n",
    "X_train = train[:,0:60]\n",
    "y_trainB = train[:,60]\n",
    "y_trainP = train[:,61]\n",
    "print(y_trainB)\n",
    "print(y_trainP) # this checks out\n",
    "le = LabelEncoder()\n",
    "y_trainB = le.fit_transform(y_trainB)\n",
    "y_trainP = le.fit_transform(y_trainP)\n",
    "print(y_trainB)\n",
    "print(y_trainP)\n",
    "pets = []\n",
    "breeds = []\n",
    "for i in range(len(y_trainB)):\n",
    "    breed = y_trainB[i]\n",
    "    pet = y_trainP[i]\n",
    "    \n",
    "    if breed in breeds:\n",
    "        pass\n",
    "    else:\n",
    "        breeds.append(breed)\n",
    "    \n",
    "    if pet in pets:\n",
    "        pass\n",
    "    else:\n",
    "        pets.append(pet)\n",
    "\n",
    "print(pets)\n",
    "print(breeds)"
   ]
  },
  {
   "cell_type": "code",
   "execution_count": 173,
   "metadata": {},
   "outputs": [],
   "source": [
    "# Should be ready to start building our model\n",
    "# I'm thinking i'm going to use two different models, one to predict the pet_category, and one\n",
    "# to take pet_category into account and predict breed_category"
   ]
  },
  {
   "cell_type": "code",
   "execution_count": 174,
   "metadata": {},
   "outputs": [],
   "source": [
    "# here are our options\n",
    "# Logistic Regression -> more than two potential labels in both outputs, so not usable\n",
    "# KNN ->\n",
    "# Support Vector Machine ->\n",
    "# Naive Bayes -> \n",
    "# Decision Tree ->\n",
    "# Random Forest ->\n",
    "# ANN -> "
   ]
  },
  {
   "cell_type": "code",
   "execution_count": 205,
   "metadata": {},
   "outputs": [],
   "source": [
    "# model 1\n",
    "annP = tf.keras.models.Sequential()\n",
    "annP.add(tf.keras.layers.Dense(units=6, activation='relu')) # INPUT LAYER HANDLED AUTOMATICALLY\n",
    "# Dense is just output = activation(dot(input, kernel)  + bias)\n",
    "annP.add(tf.keras.layers.Dense(units=6, activation='relu'))\n",
    "annP.add(tf.keras.layers.Dense(units=4, activation='softmax')) # 0, 1, 2, 3\n",
    "# our first model is going to be predicting the pet_category, because the result will have a\n",
    "# direct influence on the breed_category. There are 4 categories, so we'll need 4 output\n",
    "# neurons for a onehotencoding type beat.\n",
    "# the sigmoid activation function gives the probabilities of a binary output\n",
    "# for more than two categories use softmax"
   ]
  },
  {
   "cell_type": "code",
   "execution_count": 206,
   "metadata": {},
   "outputs": [],
   "source": [
    "# compiling model \n",
    "annP.compile(optimizer='adam', loss='categorical_crossentropy', metrics= ['accuracy'])"
   ]
  },
  {
   "cell_type": "code",
   "execution_count": 207,
   "metadata": {},
   "outputs": [
    {
     "name": "stdout",
     "output_type": "stream",
     "text": [
      "Epoch 1/50\n",
      "18834/18834 [==============================] - 1s 70us/sample - loss: 9.2040 - acc: 0.2709\n",
      "Epoch 2/50\n",
      "18834/18834 [==============================] - 1s 58us/sample - loss: 9.2005 - acc: 0.2771\n",
      "Epoch 3/50\n",
      "18834/18834 [==============================] - 1s 60us/sample - loss: 9.2005 - acc: 0.3392\n",
      "Epoch 4/50\n",
      "18834/18834 [==============================] - 1s 59us/sample - loss: 9.2005 - acc: 0.3506\n",
      "Epoch 5/50\n",
      "18834/18834 [==============================] - 1s 62us/sample - loss: 9.2004 - acc: 0.3255\n",
      "Epoch 6/50\n",
      "18834/18834 [==============================] - 1s 62us/sample - loss: 9.2004 - acc: 0.3076\n",
      "Epoch 7/50\n",
      "18834/18834 [==============================] - 1s 62us/sample - loss: 9.2004 - acc: 0.2954\n",
      "Epoch 8/50\n",
      "18834/18834 [==============================] - 1s 62us/sample - loss: 9.2004 - acc: 0.3128\n",
      "Epoch 9/50\n",
      "18834/18834 [==============================] - 1s 64us/sample - loss: 9.2004 - acc: 0.3101\n",
      "Epoch 10/50\n",
      "18834/18834 [==============================] - 1s 63us/sample - loss: 9.2004 - acc: 0.2872\n",
      "Epoch 11/50\n",
      "18834/18834 [==============================] - 1s 64us/sample - loss: 9.2004 - acc: 0.2637\n",
      "Epoch 12/50\n",
      "18834/18834 [==============================] - 1s 70us/sample - loss: 9.2004 - acc: 0.2992\n",
      "Epoch 13/50\n",
      "18834/18834 [==============================] - 2s 87us/sample - loss: 9.2004 - acc: 0.2635\n",
      "Epoch 14/50\n",
      "18834/18834 [==============================] - 2s 81us/sample - loss: 9.2004 - acc: 0.2255\n",
      "Epoch 15/50\n",
      "18834/18834 [==============================] - 2s 84us/sample - loss: 9.2004 - acc: 0.1795\n",
      "Epoch 16/50\n",
      "18834/18834 [==============================] - 2s 116us/sample - loss: 9.2004 - acc: 0.1621\n",
      "Epoch 17/50\n",
      "18834/18834 [==============================] - 2s 113us/sample - loss: 9.2004 - acc: 0.2587s - loss: 9\n",
      "Epoch 18/50\n",
      "18834/18834 [==============================] - 2s 121us/sample - loss: 9.2004 - acc: 0.2622s - loss: 9.2007 - acc: 0.2\n",
      "Epoch 19/50\n",
      "18834/18834 [==============================] - 2s 83us/sample - loss: 9.2004 - acc: 0.2319\n",
      "Epoch 20/50\n",
      "18834/18834 [==============================] - 2s 94us/sample - loss: 9.2004 - acc: 0.17780s - loss: 9.1927 \n",
      "Epoch 21/50\n",
      "18834/18834 [==============================] - 2s 83us/sample - loss: 9.2004 - acc: 0.1292\n",
      "Epoch 22/50\n",
      "18834/18834 [==============================] - 2s 88us/sample - loss: 9.2004 - acc: 0.2712\n",
      "Epoch 23/50\n",
      "18834/18834 [==============================] - 2s 96us/sample - loss: 9.2004 - acc: 0.2529\n",
      "Epoch 24/50\n",
      "18834/18834 [==============================] - 3s 138us/sample - loss: 9.2004 - acc: 0.3623\n",
      "Epoch 25/50\n",
      "18834/18834 [==============================] - 1s 79us/sample - loss: 9.2004 - acc: 0.2866\n",
      "Epoch 26/50\n",
      "18834/18834 [==============================] - 1s 76us/sample - loss: 9.2004 - acc: 0.25520s - loss: 9.212\n",
      "Epoch 27/50\n",
      "18834/18834 [==============================] - 1s 79us/sample - loss: 9.2004 - acc: 0.1878\n",
      "Epoch 28/50\n",
      "18834/18834 [==============================] - 1s 76us/sample - loss: 9.2004 - acc: 0.1526\n",
      "Epoch 29/50\n",
      "18834/18834 [==============================] - 1s 78us/sample - loss: 9.2004 - acc: 0.2421\n",
      "Epoch 30/50\n",
      "18834/18834 [==============================] - 1s 74us/sample - loss: 9.2004 - acc: 0.2837\n",
      "Epoch 31/50\n",
      "18834/18834 [==============================] - 2s 114us/sample - loss: 9.2004 - acc: 0.3227s - loss\n",
      "Epoch 32/50\n",
      "18834/18834 [==============================] - 1s 70us/sample - loss: 9.2004 - acc: 0.2032\n",
      "Epoch 33/50\n",
      "18834/18834 [==============================] - 1s 72us/sample - loss: 9.2004 - acc: 0.2381\n",
      "Epoch 34/50\n",
      "18834/18834 [==============================] - 1s 75us/sample - loss: 9.2004 - acc: 0.20140s - loss: 9.1781 \n",
      "Epoch 35/50\n",
      "18834/18834 [==============================] - 1s 73us/sample - loss: 9.2004 - acc: 0.25330s - loss: 9.\n",
      "Epoch 36/50\n",
      "18834/18834 [==============================] - 1s 76us/sample - loss: 9.2004 - acc: 0.1711\n",
      "Epoch 37/50\n",
      "18834/18834 [==============================] - 1s 78us/sample - loss: 9.2004 - acc: 0.3150\n",
      "Epoch 38/50\n",
      "18834/18834 [==============================] - 1s 77us/sample - loss: 9.2004 - acc: 0.3992\n",
      "Epoch 39/50\n",
      "18834/18834 [==============================] - 1s 78us/sample - loss: 9.2004 - acc: 0.21940s - loss: 9.1396\n",
      "Epoch 40/50\n",
      "18834/18834 [==============================] - 2s 116us/sample - loss: 9.2004 - acc: 0.2004\n",
      "Epoch 41/50\n",
      "18834/18834 [==============================] - 1s 79us/sample - loss: 9.2004 - acc: 0.3920\n",
      "Epoch 42/50\n",
      "18834/18834 [==============================] - 1s 62us/sample - loss: 9.2004 - acc: 0.2190\n",
      "Epoch 43/50\n",
      "18834/18834 [==============================] - 1s 62us/sample - loss: 9.2004 - acc: 0.3322\n",
      "Epoch 44/50\n",
      "18834/18834 [==============================] - 1s 61us/sample - loss: 9.2004 - acc: 0.2363\n",
      "Epoch 45/50\n",
      "18834/18834 [==============================] - 1s 74us/sample - loss: 9.2004 - acc: 0.33730s - loss: 9.1661 - ac\n",
      "Epoch 46/50\n",
      "18834/18834 [==============================] - 1s 60us/sample - loss: 9.2004 - acc: 0.2812\n",
      "Epoch 47/50\n",
      "18834/18834 [==============================] - 1s 66us/sample - loss: 9.2004 - acc: 0.2617\n",
      "Epoch 48/50\n",
      "18834/18834 [==============================] - 2s 89us/sample - loss: 9.2004 - acc: 0.2745\n",
      "Epoch 49/50\n",
      "18834/18834 [==============================] - 1s 77us/sample - loss: 9.2004 - acc: 0.2386\n",
      "Epoch 50/50\n",
      "18834/18834 [==============================] - 1s 79us/sample - loss: 9.2004 - acc: 0.2614\n"
     ]
    },
    {
     "data": {
      "text/plain": [
       "<tensorflow.python.keras.callbacks.History at 0x7f947fc20b38>"
      ]
     },
     "execution_count": 207,
     "metadata": {},
     "output_type": "execute_result"
    }
   ],
   "source": [
    "# training model\n",
    "annP.fit(X_train, y_trainP, batch_size=32, epochs=50)"
   ]
  },
  {
   "cell_type": "code",
   "execution_count": null,
   "metadata": {},
   "outputs": [],
   "source": [
    "# so these results are ass (label encoding the output helped), to fix them im thinking:\n",
    "# 1. check all numbers and indexes\n",
    "# 2. try to fix the sparse matrix situation\n"
   ]
  },
  {
   "cell_type": "code",
   "execution_count": null,
   "metadata": {},
   "outputs": [],
   "source": [
    "'''\n",
    "annB = tf.keras.models.Sequential()\n",
    "annB.add(tf.keras.layers.Dense(units=6, activation='relu'))\n",
    "annB.add(tf.keras.layers.Dense(units=6, activation='relu'))\n",
    "annB.add(tf.keras.layers.Dense(units=3, activation='relu')) #(breed = 0.0, 0.1, 0.2)\n",
    "annB.compile(optimizer='adam', loss='categorical_crossentropy', metrics= ['accuracy'])\n",
    "annB.fit(X_train, y_trainP, batch_size=32, epochs=50)\n",
    "'''"
   ]
  }
 ],
 "metadata": {
  "kernelspec": {
   "display_name": "firstEnv",
   "language": "python",
   "name": "firstenv"
  },
  "language_info": {
   "codemirror_mode": {
    "name": "ipython",
    "version": 3
   },
   "file_extension": ".py",
   "mimetype": "text/x-python",
   "name": "python",
   "nbconvert_exporter": "python",
   "pygments_lexer": "ipython3",
   "version": "3.6.10"
  }
 },
 "nbformat": 4,
 "nbformat_minor": 4
}
