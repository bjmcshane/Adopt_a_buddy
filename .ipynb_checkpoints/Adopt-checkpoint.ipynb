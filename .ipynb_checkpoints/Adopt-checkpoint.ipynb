{
 "cells": [
  {
   "cell_type": "code",
   "execution_count": 57,
   "metadata": {},
   "outputs": [],
   "source": [
    "import numpy as np\n",
    "#import matplotlib.pyplot as plt\n",
    "import pandas as pd\n",
    "import math"
   ]
  },
  {
   "cell_type": "code",
   "execution_count": 58,
   "metadata": {},
   "outputs": [],
   "source": [
    "train = pd.read_csv('Dataset/train.csv')\n",
    "test = pd.read_csv('Dataset/test.csv')"
   ]
  },
  {
   "cell_type": "code",
   "execution_count": 59,
   "metadata": {},
   "outputs": [
    {
     "name": "stdout",
     "output_type": "stream",
     "text": [
      "       pet_id           issue_date         listing_date  condition  \\\n",
      "0  ANSL_69903  2016-07-10 00:00:00  2016-09-21 16:25:00        2.0   \n",
      "1  ANSL_66892  2013-11-21 00:00:00  2018-12-27 17:47:00        1.0   \n",
      "2  ANSL_69750  2014-09-28 00:00:00  2016-10-19 08:24:00        NaN   \n",
      "3  ANSL_71623  2016-12-31 00:00:00  2019-01-25 18:30:00        1.0   \n",
      "4  ANSL_57969  2017-09-28 00:00:00  2017-11-19 09:38:00        2.0   \n",
      "\n",
      "    color_type  length(m)  height(cm)  X1  X2  breed_category  pet_category  \n",
      "0  Brown Tabby       0.80        7.78  13   9             0.0             1  \n",
      "1        White       0.72       14.19  13   9             0.0             2  \n",
      "2        Brown       0.15       40.90  15   4             2.0             4  \n",
      "3        White       0.62       17.82   0   1             0.0             2  \n",
      "4        Black       0.50       11.06  18   4             0.0             1  \n"
     ]
    }
   ],
   "source": [
    "print(train.head(5))"
   ]
  },
  {
   "cell_type": "code",
   "execution_count": 60,
   "metadata": {},
   "outputs": [],
   "source": [
    "train = np.array(train)\n",
    "test = np.array(test)"
   ]
  },
  {
   "cell_type": "code",
   "execution_count": 61,
   "metadata": {},
   "outputs": [],
   "source": [
    "# both train and test are missing a lot of data in the 'condition' column, so we're going to\n",
    "# fill in the missing data with imputer\n",
    "from sklearn.impute import SimpleImputer\n",
    "imputer = SimpleImputer(missing_values=np.nan, strategy='mean')\n",
    "imputer.fit(train[:,3:4])\n",
    "train[:,3:4] = imputer.transform(train[:,3:4])\n",
    "imputer.fit(test[:,3:4])\n",
    "test[:,3:4] = imputer.transform(test[:,3:4])"
   ]
  },
  {
   "cell_type": "code",
   "execution_count": 62,
   "metadata": {},
   "outputs": [],
   "source": [
    "# the next step is to encode categorical data (most categorical data already has been, but for\n",
    "# whatever reason 'color_type'[4] hasn't)\n",
    "from sklearn.compose import ColumnTransformer\n",
    "from sklearn.preprocessing import OneHotEncoder\n",
    "\n",
    "ct = ColumnTransformer(transformers=[('encoder', OneHotEncoder(), [4])], \n",
    "                       remainder='passthrough')\n",
    "#train = np.array(ct.fit_transform(train))\n",
    "#test = np.array(ct.fit_transform(test))\n",
    "\n",
    "\n",
    "\n",
    "\n",
    "#this block is correct, getting weird errors when I try to fit_transform the CT"
   ]
  },
  {
   "cell_type": "code",
   "execution_count": 63,
   "metadata": {},
   "outputs": [],
   "source": [
    "# after we filled in missing data and encoded categorical data, we're going to scale everything\n",
    "# using the standardization method\n",
    "from sklearn.preprocessing import StandardScaler\n",
    "sc = StandardScaler()\n",
    "\n",
    "# gonna want to standardize the columns:\n",
    "# condition[3] ?\n",
    "# length[5]\n",
    "# height[6]\n",
    "# not sure if standardizing the dates would be helpful\n",
    "\n",
    "train[:, 5:7] = sc.fit_transform(train[:, 5:7])\n",
    "test[:, 5:7] = sc.transform(test[:,5:7])"
   ]
  },
  {
   "cell_type": "code",
   "execution_count": 64,
   "metadata": {},
   "outputs": [],
   "source": [
    "# splitting the cleaned data into input/output\n",
    "X = train[:,0:9]\n",
    "y = train[:,9:11]"
   ]
  },
  {
   "cell_type": "code",
   "execution_count": 65,
   "metadata": {},
   "outputs": [],
   "source": [
    "# Should be ready to start building our model"
   ]
  },
  {
   "cell_type": "code",
   "execution_count": null,
   "metadata": {},
   "outputs": [],
   "source": []
  }
 ],
 "metadata": {
  "kernelspec": {
   "display_name": "Python 3",
   "language": "python",
   "name": "python3"
  },
  "language_info": {
   "codemirror_mode": {
    "name": "ipython",
    "version": 3
   },
   "file_extension": ".py",
   "mimetype": "text/x-python",
   "name": "python",
   "nbconvert_exporter": "python",
   "pygments_lexer": "ipython3",
   "version": "3.8.2"
  }
 },
 "nbformat": 4,
 "nbformat_minor": 4
}
